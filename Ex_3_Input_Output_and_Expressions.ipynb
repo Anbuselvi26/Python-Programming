{
  "nbformat": 4,
  "nbformat_minor": 0,
  "metadata": {
    "colab": {
      "provenance": []
    },
    "kernelspec": {
      "name": "python3",
      "display_name": "Python 3"
    },
    "language_info": {
      "name": "python"
    }
  },
  "cells": [
    {
      "cell_type": "markdown",
      "source": [
        "#**Solve the following problems**\n",
        "\n",
        "**1. Write a program that accepts radius of a sphere and calculates the area and volume of the sphere.**"
      ],
      "metadata": {
        "id": "Ayu3SvLGe4C9"
      }
    },
    {
      "cell_type": "code",
      "source": [
        "radius = float(input(\"Enter the radius of the sphere: \"))\n",
        "surface_area = 4 * 3.14159265359 * radius ** 2\n",
        "volume = (4/3) * 3.14159265359 * radius ** 3\n",
        "\n",
        "print(\"Surface Area:\", surface_area)\n",
        "print(\"Volume:\", volume)"
      ],
      "metadata": {
        "colab": {
          "base_uri": "https://localhost:8080/"
        },
        "id": "HI896jT9e_2k",
        "outputId": "e6500577-6e85-466f-9038-08325e2780b1"
      },
      "execution_count": 3,
      "outputs": [
        {
          "output_type": "stream",
          "name": "stdout",
          "text": [
            "Enter the radius of the sphere: 5\n",
            "Surface Area: 314.159265359\n",
            "Volume: 523.5987755983333\n"
          ]
        }
      ]
    },
    {
      "cell_type": "markdown",
      "source": [
        "**2. Write a program that accepts sides of a triangle and calculates the perimeter of the triangle.**"
      ],
      "metadata": {
        "id": "IsKgv9G7fTEO"
      }
    },
    {
      "cell_type": "code",
      "source": [
        "a = float(input(\"Enter side a of the triangle: \"))\n",
        "b = float(input(\"Enter side b of the triangle: \"))\n",
        "c = float(input(\"Enter side c of the triangle: \"))\n",
        "\n",
        "perimeter = a + b + c\n",
        "print(\"Perimeter of the triangle:\", perimeter)"
      ],
      "metadata": {
        "colab": {
          "base_uri": "https://localhost:8080/"
        },
        "id": "uaEDRKS0fcJc",
        "outputId": "65ffc33f-cd6c-4645-ee1b-b0e22ea8a0b7"
      },
      "execution_count": 6,
      "outputs": [
        {
          "output_type": "stream",
          "name": "stdout",
          "text": [
            "Enter side a of the triangle: 5\n",
            "Enter side b of the triangle: 30\n",
            "Enter side c of the triangle: 15\n",
            "Perimeter of the triangle: 50.0\n"
          ]
        }
      ]
    },
    {
      "cell_type": "markdown",
      "source": [
        "**3. Write a program to solve the equation 5x+3=2y. Accept the value of x and determine y.**"
      ],
      "metadata": {
        "id": "1jhfx1zGfmTg"
      }
    },
    {
      "cell_type": "code",
      "source": [
        "x = float(input(\"Enter the value of x: \"))\n",
        "y = (5*x + 3)/2\n",
        "print(\"Value of y:\", y)"
      ],
      "metadata": {
        "colab": {
          "base_uri": "https://localhost:8080/"
        },
        "id": "4CZN37TNfnsd",
        "outputId": "173367a3-62b3-4df2-faed-d27cb4b11805"
      },
      "execution_count": 7,
      "outputs": [
        {
          "output_type": "stream",
          "name": "stdout",
          "text": [
            "Enter the value of x: 5\n",
            "Value of y: 14.0\n"
          ]
        }
      ]
    },
    {
      "cell_type": "markdown",
      "source": [
        "**4. Write a program to accept two numbers and find the remainder on dividing first by second.**"
      ],
      "metadata": {
        "id": "RrM0bUjpfoJ1"
      }
    },
    {
      "cell_type": "code",
      "source": [
        "num1 = int(input(\"Enter the first number: \"))\n",
        "num2 = int(input(\"Enter the second number: \"))\n",
        "\n",
        "remainder = num1 % num2\n",
        "print(\"Remainder:\", remainder)"
      ],
      "metadata": {
        "colab": {
          "base_uri": "https://localhost:8080/"
        },
        "id": "jl9-P1oQfq6l",
        "outputId": "90cb7cae-4139-433f-e6f1-cb16cf0504ed"
      },
      "execution_count": 9,
      "outputs": [
        {
          "output_type": "stream",
          "name": "stdout",
          "text": [
            "Enter the first number: 108\n",
            "Enter the second number: 10\n",
            "Remainder: 8\n"
          ]
        }
      ]
    },
    {
      "cell_type": "markdown",
      "source": [
        "**5. Accept the basic salary of an employee through the keyboard. HRA is 30% of basic salary and DA is 60% of basic salary and other allowances are 40% of basic salary. Write a program to calculate the gross salary.**"
      ],
      "metadata": {
        "id": "HIW53mH2frOk"
      }
    },
    {
      "cell_type": "code",
      "source": [
        "basic_salary = float(input(\"Enter basic salary: \"))\n",
        "\n",
        "hra = 0.3 * basic_salary\n",
        "da = 0.6 * basic_salary\n",
        "other_allowances = 0.4 * basic_salary\n",
        "\n",
        "gross_salary = basic_salary + hra + da + other_allowances\n",
        "print(\"Gross Salary:\", gross_salary)"
      ],
      "metadata": {
        "colab": {
          "base_uri": "https://localhost:8080/"
        },
        "id": "DVOAnW1hgGMF",
        "outputId": "362abcbf-021a-43c0-d2fd-4a8f8d617313"
      },
      "execution_count": 10,
      "outputs": [
        {
          "output_type": "stream",
          "name": "stdout",
          "text": [
            "Enter basic salary: 50000\n",
            "Gross Salary: 115000.0\n"
          ]
        }
      ]
    },
    {
      "cell_type": "markdown",
      "source": [
        "**6. Write a program that receives a number from keyboard and prints its square and cube.**"
      ],
      "metadata": {
        "id": "HHKWJ_6RgGaE"
      }
    },
    {
      "cell_type": "code",
      "source": [
        "num = float(input(\"Enter a number: \"))\n",
        "\n",
        "square = num ** 2\n",
        "cube = num ** 3\n",
        "\n",
        "print(\"Square:\", square)\n",
        "print(\"Cube:\", cube)"
      ],
      "metadata": {
        "colab": {
          "base_uri": "https://localhost:8080/"
        },
        "id": "fUlmuT_XgJS8",
        "outputId": "20f0d087-f777-421d-c56b-3c83036397bf"
      },
      "execution_count": 11,
      "outputs": [
        {
          "output_type": "stream",
          "name": "stdout",
          "text": [
            "Enter a number: 8\n",
            "Square: 64.0\n",
            "Cube: 512.0\n"
          ]
        }
      ]
    },
    {
      "cell_type": "markdown",
      "source": [
        "**7. Write a program that accepts a float and prints the reciprocal of its cube.**"
      ],
      "metadata": {
        "id": "JfTOgDNqgJZ4"
      }
    },
    {
      "cell_type": "code",
      "source": [
        "num = float(input(\"Enter a float number: \"))\n",
        "reciprocal_cube = 1 / (num ** 3)\n",
        "\n",
        "print(\"Reciprocal of its cube:\", reciprocal_cube)"
      ],
      "metadata": {
        "colab": {
          "base_uri": "https://localhost:8080/"
        },
        "id": "OJspdUxHgPlO",
        "outputId": "8db34fae-1a0d-4dde-fdc3-8f1561a41cd1"
      },
      "execution_count": 12,
      "outputs": [
        {
          "output_type": "stream",
          "name": "stdout",
          "text": [
            "Enter a float number: 32.8\n",
            "Reciprocal of its cube: 2.8338605069572417e-05\n"
          ]
        }
      ]
    },
    {
      "cell_type": "markdown",
      "source": [
        "**8. Write a program to accept temperature in centigrade degrees and convert it into Fahrenheit degrees. Use the formula C=5/9(F-32)**"
      ],
      "metadata": {
        "id": "-Dz6PY1fgPrZ"
      }
    },
    {
      "cell_type": "code",
      "source": [
        "c = float(input(\"Enter temperature in Celsius: \"))\n",
        "f = (c * 9/5) + 32\n",
        "print(\"Temperature in Fahrenheit:\", f)"
      ],
      "metadata": {
        "colab": {
          "base_uri": "https://localhost:8080/"
        },
        "id": "eQBZwe37gSld",
        "outputId": "a8975b54-357b-42e2-a84f-105660ba39f3"
      },
      "execution_count": 13,
      "outputs": [
        {
          "output_type": "stream",
          "name": "stdout",
          "text": [
            "Enter temperature in Celsius: 25.8\n",
            "Temperature in Fahrenheit: 78.44\n"
          ]
        }
      ]
    },
    {
      "cell_type": "markdown",
      "source": [
        "**9. Write a program to calculate the compound interest for N years on the principal P and rate of interest R.**"
      ],
      "metadata": {
        "id": "puoYiWjAgTTt"
      }
    },
    {
      "cell_type": "code",
      "source": [
        "P = float(input(\"Enter principal amount: \"))\n",
        "R = float(input(\"Enter rate of interest (in %): \"))\n",
        "N = int(input(\"Enter number of years: \"))\n",
        "\n",
        "A = P * ((1 + R/100) ** N)\n",
        "CI = A - P\n",
        "print(\"Compound Interest:\", CI)"
      ],
      "metadata": {
        "colab": {
          "base_uri": "https://localhost:8080/"
        },
        "id": "VWvhMaPZgXD-",
        "outputId": "08c7261c-e2a0-4c35-e082-1799f81e96c9"
      },
      "execution_count": 14,
      "outputs": [
        {
          "output_type": "stream",
          "name": "stdout",
          "text": [
            "Enter principal amount: 20000\n",
            "Enter rate of interest (in %): 3\n",
            "Enter number of years: 5\n",
            "Compound Interest: 3185.4814860000006\n"
          ]
        }
      ]
    },
    {
      "cell_type": "markdown",
      "source": [
        "**10. Suppose a five digit number is entered through the keyboard. Write a program to separate each digit, add 48 to each digit and calculate the sum.**"
      ],
      "metadata": {
        "id": "NQW_pO_pgXOD"
      }
    },
    {
      "cell_type": "code",
      "source": [
        "num = int(input(\"Enter a five-digit number: \"))\n",
        "sum_digits = sum(int(digit) + 48 for digit in str(num))\n",
        "print(\"Sum after adding 48 to each digit:\", sum_digits)"
      ],
      "metadata": {
        "colab": {
          "base_uri": "https://localhost:8080/"
        },
        "id": "yW_KSIGtgyu8",
        "outputId": "b45ea8ed-ca5d-49e6-e8fb-4cda157bb497"
      },
      "execution_count": 15,
      "outputs": [
        {
          "output_type": "stream",
          "name": "stdout",
          "text": [
            "Enter a five-digit number: 94275\n",
            "Sum after adding 48 to each digit: 267\n"
          ]
        }
      ]
    },
    {
      "cell_type": "markdown",
      "source": [
        "**11. Write a program which accepts two integers and prints the sum, difference, product, quotient, and remainder of two integers.**"
      ],
      "metadata": {
        "id": "ZKp8R1BQg2Fg"
      }
    },
    {
      "cell_type": "code",
      "source": [
        "a = int(input(\"Enter first integer: \"))\n",
        "b = int(input(\"Enter second integer: \"))\n",
        "\n",
        "print(\"Sum:\", a + b)\n",
        "print(\"Difference:\", a - b)\n",
        "print(\"Product:\", a * b)\n",
        "print(\"Quotient:\", a // b)\n",
        "print(\"Remainder:\", a % b)"
      ],
      "metadata": {
        "colab": {
          "base_uri": "https://localhost:8080/"
        },
        "id": "qSWIuUuBg4Le",
        "outputId": "9b1622b1-e822-44d4-add1-3ac11c6dfcc6"
      },
      "execution_count": 16,
      "outputs": [
        {
          "output_type": "stream",
          "name": "stdout",
          "text": [
            "Enter first integer: 64\n",
            "Enter second integer: 8\n",
            "Sum: 72\n",
            "Difference: 56\n",
            "Product: 512\n",
            "Quotient: 8\n",
            "Remainder: 0\n"
          ]
        }
      ]
    },
    {
      "cell_type": "markdown",
      "source": [
        "**12. Write a program that prints the block letter “B” in a 7 × 6 grid of stars.**\n",
        "\n",
        "\n",
        "\n",
        "         ****\n",
        "\n",
        "         *    *\n",
        "\n",
        "         *   *\n",
        "         ****\n",
        "\n",
        "         *    *\n",
        "\n",
        "         *   *\n",
        "\n",
        "         ****"
      ],
      "metadata": {
        "id": "vUbLuZOJg7yE"
      }
    },
    {
      "cell_type": "code",
      "source": [
        "print(\"****\")\n",
        "print(\"*   *\")\n",
        "print(\"*   *\")\n",
        "print(\"****\")\n",
        "print(\"*   *\")\n",
        "print(\"*   *\")\n",
        "print(\"****\")"
      ],
      "metadata": {
        "colab": {
          "base_uri": "https://localhost:8080/"
        },
        "id": "6Er8Z72FhB8s",
        "outputId": "fc44fb06-c753-45f8-bc43-a08e91ab005c"
      },
      "execution_count": 5,
      "outputs": [
        {
          "output_type": "stream",
          "name": "stdout",
          "text": [
            "****\n",
            "*   *\n",
            "*   *\n",
            "****\n",
            "*   *\n",
            "*   *\n",
            "****\n"
          ]
        }
      ]
    },
    {
      "cell_type": "markdown",
      "source": [
        "**13. Write a program that prints the block letter “E” in a 7 × 6 grid of stars as above.**"
      ],
      "metadata": {
        "id": "GySbWhPch1is"
      }
    },
    {
      "cell_type": "code",
      "source": [
        "print(\"*****\")\n",
        "print(\"*\")\n",
        "print(\"*\")\n",
        "print(\"*****\")\n",
        "print(\"*\")\n",
        "print(\"*\")\n",
        "print(\"*****\")"
      ],
      "metadata": {
        "colab": {
          "base_uri": "https://localhost:8080/"
        },
        "id": "DoeWOYughIid",
        "outputId": "d6480efd-6597-400b-b070-604e0af2eb86"
      },
      "execution_count": 17,
      "outputs": [
        {
          "output_type": "stream",
          "name": "stdout",
          "text": [
            "*****\n",
            "*\n",
            "*\n",
            "*****\n",
            "*\n",
            "*\n",
            "*****\n"
          ]
        }
      ]
    },
    {
      "cell_type": "markdown",
      "source": [
        "**14. Write as many different statements as possible, each subtracting 1 from the integer variable N.**"
      ],
      "metadata": {
        "id": "Mc1qNn96h2tE"
      }
    },
    {
      "cell_type": "code",
      "source": [
        "N = int(input(\"Enter an integer value for N: \"))\n",
        "\n",
        "print(\"\\nOriginal N =\", N)\n",
        "\n",
        "# 1. Basic subtraction\n",
        "a = N - 1\n",
        "print(\"1. N = N - 1 →\", a)\n",
        "\n",
        "# 2. Using -= operator\n",
        "b = N\n",
        "b -= 1\n",
        "print(\"2. N -= 1 →\", b)\n",
        "\n",
        "# 3. Adding negative one\n",
        "c = N + (-1)\n",
        "print(\"3. N = N + (-1) →\", c)\n",
        "\n",
        "# 4. Subtracting True (since True == 1)\n",
        "d = N - True\n",
        "print(\"4. N = N - True →\", d)\n",
        "\n",
        "# 5. Using lambda function\n",
        "e = (lambda x: x - 1)(N)\n",
        "print(\"5. (lambda x: x - 1)(N) →\", e)\n",
        "\n",
        "# 6. Using a list\n",
        "f = [N - 1][0]\n",
        "print(\"6. N = [N - 1][0] →\", f)\n",
        "\n",
        "# 7. Using conditional expression\n",
        "g = N - (1 if True else 0)\n",
        "print(\"7. N = N - (1 if True else 0) →\", g)\n",
        "\n",
        "# 8. Using bitwise NOT (~0 = -1)\n",
        "h = N + (~0)\n",
        "print(\"8. N = N + (~0) →\", h)\n",
        "\n",
        "# 9. Using a loop\n",
        "k = N\n",
        "for _ in range(1):\n",
        "    k -= 1\n",
        "print(\"11. for _ in range(1): N -= 1 →\", k)\n",
        "\n",
        "# 10. Using Boolean comparison\n",
        "l = N - (2 > 1)\n",
        "print(\"12. N = N - (2 > 1) →\", l)\n"
      ],
      "metadata": {
        "colab": {
          "base_uri": "https://localhost:8080/"
        },
        "id": "AAFiaOqFhJ97",
        "outputId": "7ec1a41a-fe8b-4f12-b641-0a439023e95e"
      },
      "execution_count": 19,
      "outputs": [
        {
          "output_type": "stream",
          "name": "stdout",
          "text": [
            "Enter an integer value for N: 51\n",
            "\n",
            "Original N = 51\n",
            "1. N = N - 1 → 50\n",
            "2. N -= 1 → 50\n",
            "3. N = N + (-1) → 50\n",
            "4. N = N - True → 50\n",
            "5. (lambda x: x - 1)(N) → 50\n",
            "6. N = [N - 1][0] → 50\n",
            "7. N = N - (1 if True else 0) → 50\n",
            "8. N = N + (~0) → 50\n",
            "9. N = N - math.trunc(1) → 50\n",
            "10. N = N + math.floor(-1) → 50\n",
            "11. for _ in range(1): N -= 1 → 50\n",
            "12. N = N - (2 > 1) → 50\n",
            "13. abs(-N + 1) - 2*N → -52\n"
          ]
        }
      ]
    },
    {
      "cell_type": "markdown",
      "source": [
        "**15. Write in a single statement that subtracts the sum of x and y from z and then increments y. Accept the value of x ,y and z from user.**"
      ],
      "metadata": {
        "id": "UfYRkmV-h7Ui"
      }
    },
    {
      "cell_type": "code",
      "source": [
        "x = int(input(\"Enter x: \"))\n",
        "y = int(input(\"Enter y: \"))\n",
        "z = int(input(\"Enter z: \"))\n",
        "\n",
        "z -= (x + y)\n",
        "y += 1\n",
        "\n",
        "print(\"Updated z:\", z)\n",
        "print(\"Updated y:\", y)"
      ],
      "metadata": {
        "colab": {
          "base_uri": "https://localhost:8080/"
        },
        "id": "oKyD_poFhMyE",
        "outputId": "506ba889-672c-4a46-94e3-80e51da08200"
      },
      "execution_count": 20,
      "outputs": [
        {
          "output_type": "stream",
          "name": "stdout",
          "text": [
            "Enter x: 74\n",
            "Enter y: 35\n",
            "Enter z: 48\n",
            "Updated z: -61\n",
            "Updated y: 36\n"
          ]
        }
      ]
    }
  ]
}