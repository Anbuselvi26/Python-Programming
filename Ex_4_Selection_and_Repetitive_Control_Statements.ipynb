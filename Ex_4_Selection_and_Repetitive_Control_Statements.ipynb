{
  "nbformat": 4,
  "nbformat_minor": 0,
  "metadata": {
    "colab": {
      "provenance": []
    },
    "kernelspec": {
      "name": "python3",
      "display_name": "Python 3"
    },
    "language_info": {
      "name": "python"
    }
  },
  "cells": [
    {
      "cell_type": "markdown",
      "source": [
        "#**Solve the following problems**\n",
        "**1. Suppose principle, number of years and rate of interest are entered through the keyboard. If number of years is less than or equal to 3 then the interest is calculated on the simple interest basis, otherwise it is calculated on compound interest basis. Write program to calculate the interest.**"
      ],
      "metadata": {
        "id": "E7OSAlctkze7"
      }
    },
    {
      "cell_type": "code",
      "execution_count": 1,
      "metadata": {
        "colab": {
          "base_uri": "https://localhost:8080/"
        },
        "id": "mNjN1O2_knbP",
        "outputId": "cff5e781-6993-4b5c-c248-44b5f962847f"
      },
      "outputs": [
        {
          "output_type": "stream",
          "name": "stdout",
          "text": [
            "Enter principal amount: 2000\n",
            "Enter number of years: 4\n",
            "Enter rate of interest: 2\n",
            "Interest: 164.86431999999996\n"
          ]
        }
      ],
      "source": [
        "P = float(input(\"Enter principal amount: \"))\n",
        "N = int(input(\"Enter number of years: \"))\n",
        "R = float(input(\"Enter rate of interest: \"))\n",
        "\n",
        "if N <= 3:\n",
        "    interest = (P * N * R) / 100   # Simple Interest\n",
        "else:\n",
        "    interest = P * ((1 + R / 100) ** N - 1)   # Compound Interest\n",
        "\n",
        "print(\"Interest:\", interest)\n"
      ]
    },
    {
      "cell_type": "markdown",
      "source": [
        "**2. Any integer is input through the keyboard. Write a program to find out whether it is a multiple of 5 or not.**"
      ],
      "metadata": {
        "id": "PVl7EbCflD_t"
      }
    },
    {
      "cell_type": "code",
      "source": [
        "n = int(input(\"Enter a number: \"))\n",
        "\n",
        "if n % 5 == 0:\n",
        "    print(\"Multiple of 5\")\n",
        "else:\n",
        "    print(\"Not a multiple of 5\")\n"
      ],
      "metadata": {
        "colab": {
          "base_uri": "https://localhost:8080/"
        },
        "id": "DFXMF4HzlHhi",
        "outputId": "d1cacfac-7cac-4983-c351-481f09a8e390"
      },
      "execution_count": 2,
      "outputs": [
        {
          "output_type": "stream",
          "name": "stdout",
          "text": [
            "Enter a number: 23\n",
            "Not a multiple of 5\n"
          ]
        }
      ]
    },
    {
      "cell_type": "markdown",
      "source": [
        "**3. If salaries of Subhash, Sushma and Sahil are input through the keyboard. Write a program to determine who draws maximum salary.**"
      ],
      "metadata": {
        "id": "9cr6Ld9slJEl"
      }
    },
    {
      "cell_type": "code",
      "source": [
        "subhash = float(input(\"Enter Subhash's salary: \"))\n",
        "sushma = float(input(\"Enter Sushma's salary: \"))\n",
        "sahil = float(input(\"Enter Sahil's salary: \"))\n",
        "\n",
        "if subhash > sushma and subhash > sahil:\n",
        "    print(\"Subhash has the maximum salary\")\n",
        "elif sushma > sahil:\n",
        "    print(\"Sushma has the maximum salary\")\n",
        "else:\n",
        "    print(\"Sahil has the maximum salary\")\n"
      ],
      "metadata": {
        "colab": {
          "base_uri": "https://localhost:8080/"
        },
        "id": "xMP7pDajlNAJ",
        "outputId": "1c342d9f-355b-4eb0-d219-760323db83ef"
      },
      "execution_count": 3,
      "outputs": [
        {
          "output_type": "stream",
          "name": "stdout",
          "text": [
            "Enter Subhash's salary: 20000\n",
            "Enter Sushma's salary: 35000\n",
            "Enter Sahil's salary: 40000\n",
            "Sahil has the maximum salary\n"
          ]
        }
      ]
    },
    {
      "cell_type": "markdown",
      "source": [
        "**4. If the four angles of the quadrilateral are entered through the keyboard, write a program to check whether a quadrilateral is valid or not. A quadrilateral is valid if sum of all the four angles is equal to 360 degress.**"
      ],
      "metadata": {
        "id": "V4oFhaG8lOxR"
      }
    },
    {
      "cell_type": "code",
      "source": [
        "a1 = float(input(\"Enter angle 1: \"))\n",
        "a2 = float(input(\"Enter angle 2: \"))\n",
        "a3 = float(input(\"Enter angle 3: \"))\n",
        "a4 = float(input(\"Enter angle 4: \"))\n",
        "\n",
        "if a1 + a2 + a3 + a4 == 360:\n",
        "    print(\"Valid quadrilateral\")\n",
        "else:\n",
        "    print(\"Invalid quadrilateral\")\n"
      ],
      "metadata": {
        "colab": {
          "base_uri": "https://localhost:8080/"
        },
        "id": "FeYPmQWxlTHR",
        "outputId": "46921b78-a39d-44ea-b74e-220451ec6b93"
      },
      "execution_count": 4,
      "outputs": [
        {
          "output_type": "stream",
          "name": "stdout",
          "text": [
            "Enter angle 1: 50\n",
            "Enter angle 2: 100\n",
            "Enter angle 3: 200\n",
            "Enter angle 4: 10\n",
            "Valid quadrilateral\n"
          ]
        }
      ]
    },
    {
      "cell_type": "markdown",
      "source": [
        "**5. If a number is entered through the keyboard, write a program to find out whether the number is a perfect square or not.**"
      ],
      "metadata": {
        "id": "4OCXbWVQlUop"
      }
    },
    {
      "cell_type": "code",
      "source": [
        "import math\n",
        "n = int(input(\"Enter a number: \"))\n",
        "\n",
        "if math.isqrt(n) ** 2 == n:\n",
        "    print(\"Perfect square\")\n",
        "else:\n",
        "    print(\"Not a perfect square\")\n"
      ],
      "metadata": {
        "colab": {
          "base_uri": "https://localhost:8080/"
        },
        "id": "wEzdN1BVlZT6",
        "outputId": "9ac7a40d-da7e-418e-8065-b0c58fa0f3ab"
      },
      "execution_count": 5,
      "outputs": [
        {
          "output_type": "stream",
          "name": "stdout",
          "text": [
            "Enter a number: 36\n",
            "Perfect square\n"
          ]
        }
      ]
    },
    {
      "cell_type": "markdown",
      "source": [
        "**6. If  radius of two circles if entered through the keyboard, write a program to find whether the area of 1st circle is greater than the circumference of the 2nd circle.**"
      ],
      "metadata": {
        "id": "9YnfzQQNlaFj"
      }
    },
    {
      "cell_type": "code",
      "source": [
        "r1 = float(input(\"Enter radius of 1st circle: \"))\n",
        "r2 = float(input(\"Enter radius of 2nd circle: \"))\n",
        "\n",
        "area1 = 3.14159 * r1 ** 2\n",
        "circum2 = 2 * 3.14159 * r2\n",
        "\n",
        "if area1 > circum2:\n",
        "    print(\"Area of 1st circle is greater\")\n",
        "else:\n",
        "    print(\"Circumference of 2nd circle is greater\")\n"
      ],
      "metadata": {
        "colab": {
          "base_uri": "https://localhost:8080/"
        },
        "id": "c5EExWUuldKp",
        "outputId": "70cf1ca5-e043-4dc4-fc9b-45de8fb884d4"
      },
      "execution_count": 6,
      "outputs": [
        {
          "output_type": "stream",
          "name": "stdout",
          "text": [
            "Enter radius of 1st circle: 5\n",
            "Enter radius of 2nd circle: 2.5\n",
            "Area of 1st circle is greater\n"
          ]
        }
      ]
    },
    {
      "cell_type": "markdown",
      "source": [
        "**7. Given three points (x1,y1), (x2,y2), (x3,y3). Write a program to check which of these points lie on x-axis.**"
      ],
      "metadata": {
        "id": "rnrkOsvXlfBq"
      }
    },
    {
      "cell_type": "code",
      "source": [
        "x1, y1 = map(float, input(\"Enter x1 y1: \").split())\n",
        "x2, y2 = map(float, input(\"Enter x2 y2: \").split())\n",
        "x3, y3 = map(float, input(\"Enter x3 y3: \").split())\n",
        "\n",
        "if y1 == 0: print(\"(x1, y1) lies on X-axis\")\n",
        "if y2 == 0: print(\"(x2, y2) lies on X-axis\")\n",
        "if y3 == 0: print(\"(x3, y3) lies on X-axis\")\n"
      ],
      "metadata": {
        "colab": {
          "base_uri": "https://localhost:8080/"
        },
        "id": "z5bmHj72liMB",
        "outputId": "4b79be6d-1f85-44bf-8093-8a9d7471e3d7"
      },
      "execution_count": 7,
      "outputs": [
        {
          "output_type": "stream",
          "name": "stdout",
          "text": [
            "Enter x1 y1: 3 0\n",
            "Enter x2 y2: 0 6\n",
            "Enter x3 y3: 3 6\n",
            "(x1, y1) lies on X-axis\n"
          ]
        }
      ]
    },
    {
      "cell_type": "markdown",
      "source": [
        "**8. Given the coordinates of a point (x,y), write a program to determine in which quadrant of the Cartesian co-ordinate system does the point lie.**"
      ],
      "metadata": {
        "id": "El31QL7cljoJ"
      }
    },
    {
      "cell_type": "code",
      "source": [
        "x, y = map(float, input(\"Enter coordinates (x y): \").split())\n",
        "\n",
        "if x > 0 and y > 0:\n",
        "    print(\"1st Quadrant\")\n",
        "elif x < 0 and y > 0:\n",
        "    print(\"2nd Quadrant\")\n",
        "elif x < 0 and y < 0:\n",
        "    print(\"3rd Quadrant\")\n",
        "elif x > 0 and y < 0:\n",
        "    print(\"4th Quadrant\")\n",
        "elif x == 0 and y == 0:\n",
        "    print(\"Origin\")\n",
        "elif x == 0:\n",
        "    print(\"On Y-axis\")\n",
        "else:\n",
        "    print(\"On X-axis\")\n"
      ],
      "metadata": {
        "colab": {
          "base_uri": "https://localhost:8080/"
        },
        "id": "laUbt2gWlnEy",
        "outputId": "761e2fa6-c24f-440b-9b68-8b029cb530d8"
      },
      "execution_count": 8,
      "outputs": [
        {
          "output_type": "stream",
          "name": "stdout",
          "text": [
            "Enter coordinates (x y): 5 6\n",
            "1st Quadrant\n"
          ]
        }
      ]
    },
    {
      "cell_type": "markdown",
      "source": [
        "**9. A Telecom company charges the first 25 STD calls made from a mobile phone at Rs.5 per call. The next 50 STD calls are charged at Rs 4 per call. The rest of the STD calls are charged at Rs 3 per call. If number of calls made from a mobile phone is entered through the keyboard, write a program to calculate the bill amount.**"
      ],
      "metadata": {
        "id": "_UBbAJarlo9h"
      }
    },
    {
      "cell_type": "code",
      "source": [
        "calls = int(input(\"Enter number of STD calls: \"))\n",
        "\n",
        "if calls <= 25:\n",
        "    bill = calls * 5\n",
        "elif calls <= 75:\n",
        "    bill = 25 * 5 + (calls - 25) * 4\n",
        "else:\n",
        "    bill = 25 * 5 + 50 * 4 + (calls - 75) * 3\n",
        "\n",
        "print(\"Bill amount: Rs\", bill)\n"
      ],
      "metadata": {
        "colab": {
          "base_uri": "https://localhost:8080/"
        },
        "id": "CK8gNQDAltXl",
        "outputId": "804c41ce-9189-438a-9e60-d8db96e39350"
      },
      "execution_count": 9,
      "outputs": [
        {
          "output_type": "stream",
          "name": "stdout",
          "text": [
            "Enter number of STD calls: 15\n",
            "Bill amount: Rs 75\n"
          ]
        }
      ]
    },
    {
      "cell_type": "markdown",
      "source": [
        "**10.If the three angles of a triangle are entered through the keyboard, write a program to check whether the triangle is isosceles, equilateral, scalene or right angled triangle.**"
      ],
      "metadata": {
        "id": "0phc8u6tluZF"
      }
    },
    {
      "cell_type": "code",
      "source": [
        "a = float(input(\"Enter angle 1: \"))\n",
        "b = float(input(\"Enter angle 2: \"))\n",
        "c = float(input(\"Enter angle 3: \"))\n",
        "\n",
        "if a + b + c != 180:\n",
        "    print(\"Invalid triangle\")\n",
        "elif a == b == c:\n",
        "    print(\"Equilateral triangle\")\n",
        "elif a == b or b == c or a == c:\n",
        "    print(\"Isosceles triangle\")\n",
        "elif 90 in (a, b, c):\n",
        "    print(\"Right-angled triangle\")\n",
        "else:\n",
        "    print(\"Scalene triangle\")\n"
      ],
      "metadata": {
        "colab": {
          "base_uri": "https://localhost:8080/"
        },
        "id": "ZN0rJZ-mlxhS",
        "outputId": "75173d1b-03b3-4221-aec7-e0ee1ae0c012"
      },
      "execution_count": 10,
      "outputs": [
        {
          "output_type": "stream",
          "name": "stdout",
          "text": [
            "Enter angle 1: 60\n",
            "Enter angle 2: 50\n",
            "Enter angle 3: 70\n",
            "Scalene triangle\n"
          ]
        }
      ]
    },
    {
      "cell_type": "markdown",
      "source": [
        "**11. Write a program to calculate the discount offered for 10 purchases. Discount is offered at the rate of 12% for every purchase above Rs.1500.**"
      ],
      "metadata": {
        "id": "ztzN3TURly_p"
      }
    },
    {
      "cell_type": "code",
      "source": [
        "for i in range(1, 11):\n",
        "    amount = float(input(f\"Enter amount for purchase {i}: \"))\n",
        "    if amount > 1500:\n",
        "        discount = 0.12 * amount\n",
        "    else:\n",
        "        discount = 0\n",
        "    print(\"Discount for purchase\", i, \"=\", discount)\n"
      ],
      "metadata": {
        "colab": {
          "base_uri": "https://localhost:8080/"
        },
        "id": "JRP1hkBKl2wX",
        "outputId": "42e74cbb-75fb-404f-f06b-3540cc212695"
      },
      "execution_count": 11,
      "outputs": [
        {
          "output_type": "stream",
          "name": "stdout",
          "text": [
            "Enter amount for purchase 1: 500\n",
            "Discount for purchase 1 = 0\n",
            "Enter amount for purchase 2: 1500\n",
            "Discount for purchase 2 = 0\n",
            "Enter amount for purchase 3: 200\n",
            "Discount for purchase 3 = 0\n",
            "Enter amount for purchase 4: 350\n",
            "Discount for purchase 4 = 0\n",
            "Enter amount for purchase 5: 2000\n",
            "Discount for purchase 5 = 240.0\n",
            "Enter amount for purchase 6: 150\n",
            "Discount for purchase 6 = 0\n",
            "Enter amount for purchase 7: 800\n",
            "Discount for purchase 7 = 0\n",
            "Enter amount for purchase 8: 1000\n",
            "Discount for purchase 8 = 0\n",
            "Enter amount for purchase 9: 3500\n",
            "Discount for purchase 9 = 420.0\n",
            "Enter amount for purchase 10: 450\n",
            "Discount for purchase 10 = 0\n"
          ]
        }
      ]
    },
    {
      "cell_type": "markdown",
      "source": [
        "**12. Write a program to find the factorial values of any number entered through the keyboard. Note that factorial values of 0 is 1 and factorial values of negative number is not defined. This should be reported appropriately by the program.**"
      ],
      "metadata": {
        "id": "8EktFdbkl5AG"
      }
    },
    {
      "cell_type": "code",
      "source": [
        "n = int(input(\"Enter a number: \"))\n",
        "\n",
        "if n < 0:\n",
        "    print(\"Factorial not defined for negative numbers\")\n",
        "elif n == 0:\n",
        "    print(\"Factorial = 1\")\n",
        "else:\n",
        "    fact = 1\n",
        "    for i in range(1, n + 1):\n",
        "        fact *= i\n",
        "    print(\"Factorial =\", fact)\n"
      ],
      "metadata": {
        "colab": {
          "base_uri": "https://localhost:8080/"
        },
        "id": "X0Sy8zHll7kt",
        "outputId": "7004b6a9-bffa-4bba-e694-0c419d103b54"
      },
      "execution_count": 12,
      "outputs": [
        {
          "output_type": "stream",
          "name": "stdout",
          "text": [
            "Enter a number: 10\n",
            "Factorial = 3628800\n"
          ]
        }
      ]
    },
    {
      "cell_type": "markdown",
      "source": [
        "**13. Two numbers are entered through the keyboard. Write a program to find the value of one number raised to the power of another. Account for the possibility of second number being negative.**"
      ],
      "metadata": {
        "id": "UK1xtX4Xl8Rp"
      }
    },
    {
      "cell_type": "code",
      "source": [
        "a = float(input(\"Enter base number: \"))\n",
        "b = int(input(\"Enter exponent: \"))\n",
        "\n",
        "result = a ** b\n",
        "print(a, \"raised to power\", b, \"=\", result)\n"
      ],
      "metadata": {
        "colab": {
          "base_uri": "https://localhost:8080/"
        },
        "id": "Db1-BCSWl_ju",
        "outputId": "e9fffb2d-93a5-4e32-ca12-156eeaa873ea"
      },
      "execution_count": 13,
      "outputs": [
        {
          "output_type": "stream",
          "name": "stdout",
          "text": [
            "Enter base number: 5\n",
            "Enter exponent: 2\n",
            "5.0 raised to power 2 = 25.0\n"
          ]
        }
      ]
    },
    {
      "cell_type": "markdown",
      "source": [
        "**14. Write a program to enter numbers till the user wants and at the end it should display the count of odd numbers, even numbers and zeros entered.**"
      ],
      "metadata": {
        "id": "Bg-ksO3XmB6j"
      }
    },
    {
      "cell_type": "code",
      "source": [
        "odd = even = zeros = 0\n",
        "\n",
        "while True:\n",
        "    n = int(input(\"Enter a number (999 to stop): \"))\n",
        "    if n == 999:\n",
        "        break\n",
        "    elif n == 0:\n",
        "        zeros += 1\n",
        "    elif n % 2 == 0:\n",
        "        even += 1\n",
        "    else:\n",
        "        odd += 1\n",
        "\n",
        "print(\"Odd:\", odd, \"Even:\", even, \"Zeros:\", zeros)\n"
      ],
      "metadata": {
        "colab": {
          "base_uri": "https://localhost:8080/"
        },
        "id": "yLiF8S1YmD8F",
        "outputId": "3d48f8cc-d1ab-47ec-a952-9f5ea14952a7"
      },
      "execution_count": 14,
      "outputs": [
        {
          "output_type": "stream",
          "name": "stdout",
          "text": [
            "Enter a number (999 to stop): 650\n",
            "Enter a number (999 to stop): 255\n",
            "Enter a number (999 to stop): 320\n",
            "Enter a number (999 to stop): 0\n",
            "Enter a number (999 to stop): 150\n",
            "Enter a number (999 to stop): 999\n",
            "Odd: 1 Even: 3 Zeros: 1\n"
          ]
        }
      ]
    },
    {
      "cell_type": "markdown",
      "source": [
        "**15. An asset of Rs 1,00,000 depreciates by 15% each year. Write a program to find out in how many years the asset's value become less than or equal to 1000.**"
      ],
      "metadata": {
        "id": "sS3P4c5cmEeI"
      }
    },
    {
      "cell_type": "code",
      "source": [
        "value = 100000\n",
        "years = 0\n",
        "\n",
        "while value > 1000:\n",
        "    value -= value * 0.15\n",
        "    years += 1\n",
        "\n",
        "print(\"Value becomes <= 1000 after\", years, \"years\")\n"
      ],
      "metadata": {
        "colab": {
          "base_uri": "https://localhost:8080/"
        },
        "id": "iMQ2l0_AmIgb",
        "outputId": "ef453a23-1fe8-484b-f519-3c53728e01cc"
      },
      "execution_count": 15,
      "outputs": [
        {
          "output_type": "stream",
          "name": "stdout",
          "text": [
            "Value becomes <= 1000 after 29 years\n"
          ]
        }
      ]
    },
    {
      "cell_type": "markdown",
      "source": [
        "**16. Any month and year is entered through the keyboard, write a program to determine whether the month has 28,29,30,31 days.**"
      ],
      "metadata": {
        "id": "Whyh8VccmJRJ"
      }
    },
    {
      "cell_type": "code",
      "source": [
        "month = int(input(\"Enter month (1–12): \"))\n",
        "year = int(input(\"Enter year: \"))\n",
        "\n",
        "if month == 2:\n",
        "    # Leap year check\n",
        "    if (year % 4 == 0 and year % 100 != 0) or (year % 400 == 0):\n",
        "        print(\"29 days\")\n",
        "    else:\n",
        "        print(\"28 days\")\n",
        "elif month in (4, 6, 9, 11):\n",
        "    print(\"30 days\")\n",
        "else:\n",
        "    print(\"31 days\")\n"
      ],
      "metadata": {
        "colab": {
          "base_uri": "https://localhost:8080/"
        },
        "id": "JYxCoi28mNF9",
        "outputId": "5b6d5638-4880-4c61-edfa-8c969435f229"
      },
      "execution_count": 16,
      "outputs": [
        {
          "output_type": "stream",
          "name": "stdout",
          "text": [
            "Enter month (1–12): 9\n",
            "Enter year: 2005\n",
            "30 days\n"
          ]
        }
      ]
    },
    {
      "cell_type": "markdown",
      "source": [
        "**17. Write a program to print the multiplication table for a given N from the user.**"
      ],
      "metadata": {
        "id": "Pjb3T1RRmOzj"
      }
    },
    {
      "cell_type": "code",
      "source": [
        "n = int(input(\"Enter number: \"))\n",
        "for i in range(1, 11):\n",
        "    print(n, \"x\", i, \"=\", n * i)\n"
      ],
      "metadata": {
        "colab": {
          "base_uri": "https://localhost:8080/"
        },
        "id": "DjeXR3jRmQtd",
        "outputId": "ce1f7827-8cb7-4696-a282-e1368edaf091"
      },
      "execution_count": 17,
      "outputs": [
        {
          "output_type": "stream",
          "name": "stdout",
          "text": [
            "Enter number: 8\n",
            "8 x 1 = 8\n",
            "8 x 2 = 16\n",
            "8 x 3 = 24\n",
            "8 x 4 = 32\n",
            "8 x 5 = 40\n",
            "8 x 6 = 48\n",
            "8 x 7 = 56\n",
            "8 x 8 = 64\n",
            "8 x 9 = 72\n",
            "8 x 10 = 80\n"
          ]
        }
      ]
    },
    {
      "cell_type": "markdown",
      "source": [
        "**18. Write a program to print the truth tables of the AND and OR logical operators.**"
      ],
      "metadata": {
        "id": "leD7vmMBmS7u"
      }
    },
    {
      "cell_type": "code",
      "source": [
        "print(\"A  B  A AND B  A OR B\")\n",
        "for A in [0, 1]:\n",
        "    for B in [0, 1]:\n",
        "        print(A, \" \", B, \"    \", A and B, \"      \", A or B)\n"
      ],
      "metadata": {
        "colab": {
          "base_uri": "https://localhost:8080/"
        },
        "id": "8MpUpfFbmVm7",
        "outputId": "3e90ea1d-d7c9-42b3-dfd4-9a57b947e3b3"
      },
      "execution_count": 18,
      "outputs": [
        {
          "output_type": "stream",
          "name": "stdout",
          "text": [
            "A  B  A AND B  A OR B\n",
            "0   0      0        0\n",
            "0   1      0        1\n",
            "1   0      0        1\n",
            "1   1      1        1\n"
          ]
        }
      ]
    },
    {
      "cell_type": "markdown",
      "source": [
        "**19. Write a program to obtain the absolute value of a number entered through the keyboard using conditional operators.**"
      ],
      "metadata": {
        "id": "gaxdQwVqmWOP"
      }
    },
    {
      "cell_type": "code",
      "source": [
        "n = int(input(\"Enter a number: \"))\n",
        "abs_val = n if n >= 0 else -n\n",
        "print(\"Absolute value:\", abs_val)\n"
      ],
      "metadata": {
        "colab": {
          "base_uri": "https://localhost:8080/"
        },
        "id": "8wicnPrJmZvx",
        "outputId": "72c689c1-50e8-4925-d2c7-1666ca74acf6"
      },
      "execution_count": 19,
      "outputs": [
        {
          "output_type": "stream",
          "name": "stdout",
          "text": [
            "Enter a number: 6\n",
            "Absolute value: 6\n"
          ]
        }
      ]
    },
    {
      "cell_type": "markdown",
      "source": [
        "**20. A line has an equation y=3x+5. Write a program that will produce a table of values for x and y if x varies from 5.5 to 13.5 in steps of 0.5.**"
      ],
      "metadata": {
        "id": "--t5E3UdmhbQ"
      }
    },
    {
      "cell_type": "code",
      "source": [
        "x = 5.5\n",
        "while x <= 13.5:\n",
        "    y = 3 * x + 5\n",
        "    print(\"x =\", x, \"y =\", y)\n",
        "    x += 0.5\n"
      ],
      "metadata": {
        "colab": {
          "base_uri": "https://localhost:8080/"
        },
        "id": "aaJ5P5lgmjhS",
        "outputId": "28230990-651a-44b5-d3ef-6894ff0f8c57"
      },
      "execution_count": 20,
      "outputs": [
        {
          "output_type": "stream",
          "name": "stdout",
          "text": [
            "x = 5.5 y = 21.5\n",
            "x = 6.0 y = 23.0\n",
            "x = 6.5 y = 24.5\n",
            "x = 7.0 y = 26.0\n",
            "x = 7.5 y = 27.5\n",
            "x = 8.0 y = 29.0\n",
            "x = 8.5 y = 30.5\n",
            "x = 9.0 y = 32.0\n",
            "x = 9.5 y = 33.5\n",
            "x = 10.0 y = 35.0\n",
            "x = 10.5 y = 36.5\n",
            "x = 11.0 y = 38.0\n",
            "x = 11.5 y = 39.5\n",
            "x = 12.0 y = 41.0\n",
            "x = 12.5 y = 42.5\n",
            "x = 13.0 y = 44.0\n",
            "x = 13.5 y = 45.5\n"
          ]
        }
      ]
    }
  ]
}