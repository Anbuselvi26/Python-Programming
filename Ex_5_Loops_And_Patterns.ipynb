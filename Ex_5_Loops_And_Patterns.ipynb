{
  "nbformat": 4,
  "nbformat_minor": 0,
  "metadata": {
    "colab": {
      "provenance": []
    },
    "kernelspec": {
      "name": "python3",
      "display_name": "Python 3"
    },
    "language_info": {
      "name": "python"
    }
  },
  "cells": [
    {
      "cell_type": "markdown",
      "source": [
        "#**Solve the following problems**\n",
        "**1. Write a program to receive an integer and find its binary  equivalent.**"
      ],
      "metadata": {
        "id": "SCNDBK3RvMut"
      }
    },
    {
      "cell_type": "code",
      "source": [
        "num = int(input(\"Enter an integer: \"))\n",
        "binary = bin(num)[2:]\n",
        "print(f\"Binary equivalent of {num} is {binary}\")\n"
      ],
      "metadata": {
        "colab": {
          "base_uri": "https://localhost:8080/"
        },
        "id": "3ckCn4aMvVYT",
        "outputId": "e3c259c9-5da8-46c1-f29a-7333e8e7fc3d"
      },
      "execution_count": 1,
      "outputs": [
        {
          "output_type": "stream",
          "name": "stdout",
          "text": [
            "Enter an integer: 07\n",
            "Binary equivalent of 7 is 111\n"
          ]
        }
      ]
    },
    {
      "cell_type": "markdown",
      "source": [
        "**2. Write a program to print all prime numbers in a given range a and b.**"
      ],
      "metadata": {
        "id": "4lPzdiV_vRfy"
      }
    },
    {
      "cell_type": "code",
      "execution_count": 2,
      "metadata": {
        "id": "DYtXoqcAugaM",
        "colab": {
          "base_uri": "https://localhost:8080/"
        },
        "outputId": "24db3122-f669-4aa3-8a5a-d573f05689a5"
      },
      "outputs": [
        {
          "output_type": "stream",
          "name": "stdout",
          "text": [
            "Enter start of range: 5\n",
            "Enter end of range: 50\n",
            "5 7 11 13 17 19 23 29 31 37 41 43 47 "
          ]
        }
      ],
      "source": [
        "a = int(input(\"Enter start of range: \"))\n",
        "b = int(input(\"Enter end of range: \"))\n",
        "\n",
        "for num in range(a, b + 1):\n",
        "    if num > 1:\n",
        "        for i in range(2, int(num**0.5) + 1):\n",
        "            if num % i == 0:\n",
        "                break\n",
        "        else:\n",
        "            print(num, end=\" \")\n"
      ]
    },
    {
      "cell_type": "markdown",
      "source": [
        "**3. Write a program to print all Armstrong numbers in a given range a and b.**"
      ],
      "metadata": {
        "id": "-NjsQshZvRci"
      }
    },
    {
      "cell_type": "code",
      "source": [
        "a = int(input(\"Enter start of range: \"))\n",
        "b = int(input(\"Enter end of range: \"))\n",
        "\n",
        "for num in range(a, b + 1):\n",
        "    digits = list(map(int, str(num)))\n",
        "    if sum(d ** len(digits) for d in digits) == num:\n",
        "        print(num, end=\" \")\n"
      ],
      "metadata": {
        "colab": {
          "base_uri": "https://localhost:8080/"
        },
        "id": "ByBrnimIvV_L",
        "outputId": "8800cdbc-7135-4978-9eb7-c64bfdaf8c23"
      },
      "execution_count": 3,
      "outputs": [
        {
          "output_type": "stream",
          "name": "stdout",
          "text": [
            "Enter start of range: 2\n",
            "Enter end of range: 30\n",
            "2 3 4 5 6 7 8 9 "
          ]
        }
      ]
    },
    {
      "cell_type": "markdown",
      "source": [
        "**4. Write a program to print all Krishnamurti numbers in a given range a and b.**"
      ],
      "metadata": {
        "id": "vhASX6dTvT1M"
      }
    },
    {
      "cell_type": "code",
      "source": [
        "a = int(input(\"Enter starting number (a): \"))\n",
        "b = int(input(\"Enter ending number (b): \"))\n",
        "\n",
        "print(f\"Krishnamurthy numbers between {a} and {b} are:\")\n",
        "\n",
        "for num in range(a, b + 1):\n",
        "    sum_fact = sum(math.factorial(int(digit)) for digit in str(num))\n",
        "    if sum_fact == num:\n",
        "        print(num)"
      ],
      "metadata": {
        "colab": {
          "base_uri": "https://localhost:8080/"
        },
        "id": "eW4sSOLwvWaU",
        "outputId": "8680ebaa-b602-4a01-fe1f-9c4a52bb3e64"
      },
      "execution_count": 18,
      "outputs": [
        {
          "output_type": "stream",
          "name": "stdout",
          "text": [
            "Enter starting number (a): 2\n",
            "Enter ending number (b): 500\n",
            "Krishnamurthy numbers between 2 and 500 are:\n",
            "2\n",
            "145\n"
          ]
        }
      ]
    },
    {
      "cell_type": "markdown",
      "source": [
        "**5. Write a program to print square of stars pattern.**"
      ],
      "metadata": {
        "id": "9gAlI-0MvRJr"
      }
    },
    {
      "cell_type": "code",
      "source": [
        "n = int(input(\"Enter size of square: \"))\n",
        "for i in range(n):\n",
        "    print(\"* \" * n)\n"
      ],
      "metadata": {
        "colab": {
          "base_uri": "https://localhost:8080/"
        },
        "id": "jmvD76GfvhDc",
        "outputId": "38d5f769-a94c-4427-d983-541509a2de48"
      },
      "execution_count": 16,
      "outputs": [
        {
          "output_type": "stream",
          "name": "stdout",
          "text": [
            "Enter size of square: 4\n",
            "* * * * \n",
            "* * * * \n",
            "* * * * \n",
            "* * * * \n"
          ]
        }
      ]
    },
    {
      "cell_type": "markdown",
      "source": [
        "**6. Write a program to print a right angled triangle of stars pattern.**"
      ],
      "metadata": {
        "id": "whvK8pC2vhPb"
      }
    },
    {
      "cell_type": "code",
      "source": [
        "n = int(input(\"Enter number of rows: \"))\n",
        "for i in range(1, n + 1):\n",
        "    print(\"* \" * i)\n"
      ],
      "metadata": {
        "colab": {
          "base_uri": "https://localhost:8080/"
        },
        "id": "-a-Vt9xCvj7z",
        "outputId": "c24079a7-2f3b-475b-ab10-0577a1aefbeb"
      },
      "execution_count": 6,
      "outputs": [
        {
          "output_type": "stream",
          "name": "stdout",
          "text": [
            "Enter number of rows: 5\n",
            "* \n",
            "* * \n",
            "* * * \n",
            "* * * * \n",
            "* * * * * \n"
          ]
        }
      ]
    },
    {
      "cell_type": "markdown",
      "source": [
        "**7. Write a program to print a equilateral triangle of stars pattern.**"
      ],
      "metadata": {
        "id": "Vnoijz-ivkLU"
      }
    },
    {
      "cell_type": "code",
      "source": [
        "n = int(input(\"Enter number of rows: \"))\n",
        "for i in range(1, n + 1):\n",
        "    print(\" \" * (n - i) + \"* \" * i)\n"
      ],
      "metadata": {
        "colab": {
          "base_uri": "https://localhost:8080/"
        },
        "id": "Q602XljKvmdc",
        "outputId": "0addd4b0-0153-425c-bce7-6754eca5c95f"
      },
      "execution_count": 7,
      "outputs": [
        {
          "output_type": "stream",
          "name": "stdout",
          "text": [
            "Enter number of rows: 4\n",
            "   * \n",
            "  * * \n",
            " * * * \n",
            "* * * * \n"
          ]
        }
      ]
    },
    {
      "cell_type": "markdown",
      "source": [
        "**8. Write a program to print a hollow square of stars pattern.**"
      ],
      "metadata": {
        "id": "I-mMrmtJvmn4"
      }
    },
    {
      "cell_type": "code",
      "source": [
        "n = int(input(\"Enter size of square: \"))\n",
        "for i in range(n):\n",
        "    if i == 0 or i == n-1:\n",
        "        print(\"* \" * n)\n",
        "    else:\n",
        "        print(\"* \" + \"  \" * (n - 2) + \"*\")\n"
      ],
      "metadata": {
        "colab": {
          "base_uri": "https://localhost:8080/"
        },
        "id": "ZpCqhXfavpJU",
        "outputId": "23abf9ce-adfd-423e-a37c-b6f38defb7f5"
      },
      "execution_count": 8,
      "outputs": [
        {
          "output_type": "stream",
          "name": "stdout",
          "text": [
            "Enter size of square: 6\n",
            "* * * * * * \n",
            "*         *\n",
            "*         *\n",
            "*         *\n",
            "*         *\n",
            "* * * * * * \n"
          ]
        }
      ]
    },
    {
      "cell_type": "markdown",
      "source": [
        "**9. Write a program to print a hollow equilateral of stars pattern.**"
      ],
      "metadata": {
        "id": "0nRwE8khvpSU"
      }
    },
    {
      "cell_type": "code",
      "source": [
        "n = int(input(\"Enter number of rows: \"))\n",
        "for i in range(1, n + 1):\n",
        "    for j in range(n - i):\n",
        "        print(\" \", end=\"\")\n",
        "    for j in range(2*i - 1):\n",
        "        if j == 0 or j == 2*i - 2 or i == n:\n",
        "            print(\"*\", end=\"\")\n",
        "        else:\n",
        "            print(\" \", end=\"\")\n",
        "    print()\n"
      ],
      "metadata": {
        "colab": {
          "base_uri": "https://localhost:8080/"
        },
        "id": "bBIXgXBNvrYl",
        "outputId": "cda60e3a-08e6-467b-8b3b-9dc5bb21bd35"
      },
      "execution_count": 9,
      "outputs": [
        {
          "output_type": "stream",
          "name": "stdout",
          "text": [
            "Enter number of rows: 3\n",
            "  *\n",
            " * *\n",
            "*****\n"
          ]
        }
      ]
    },
    {
      "cell_type": "markdown",
      "source": [
        "**10. Write a program to print the following pattern:**\n",
        "\n",
        "        1\n",
        "        1 2\n",
        "        1  2 3\n",
        "        1 2 3 4"
      ],
      "metadata": {
        "id": "jEDpkBdxvrgn"
      }
    },
    {
      "cell_type": "code",
      "source": [
        "n = int(input(\"Enter number of rows: \"))\n",
        "for i in range(1, n + 1):\n",
        "    for j in range(1, i + 1):\n",
        "        print(j, end=\" \")\n",
        "    print()\n"
      ],
      "metadata": {
        "colab": {
          "base_uri": "https://localhost:8080/"
        },
        "id": "MKKsB3ahvv9j",
        "outputId": "901e227f-9982-4491-bc6b-b2ef1a412af4"
      },
      "execution_count": 10,
      "outputs": [
        {
          "output_type": "stream",
          "name": "stdout",
          "text": [
            "Enter number of rows: 5\n",
            "1 \n",
            "1 2 \n",
            "1 2 3 \n",
            "1 2 3 4 \n",
            "1 2 3 4 5 \n"
          ]
        }
      ]
    },
    {
      "cell_type": "markdown",
      "source": [
        "**11. Write a program to print the following pattern:**\n",
        "\n",
        "                   1\n",
        "                1 2 1\n",
        "              1 2 3 2 1\n",
        "            1 2 3 4 3 2 1"
      ],
      "metadata": {
        "id": "TubT3kpDvwXF"
      }
    },
    {
      "cell_type": "code",
      "source": [
        "n = int(input(\"Enter number of rows: \"))\n",
        "for i in range(1, n + 1):\n",
        "    print(\"  \" * (n - i), end=\"\")\n",
        "    for j in range(1, i + 1):\n",
        "        print(j, end=\" \")\n",
        "    for j in range(i - 1, 0, -1):\n",
        "        print(j, end=\" \")\n",
        "    print()\n"
      ],
      "metadata": {
        "colab": {
          "base_uri": "https://localhost:8080/"
        },
        "id": "InhlHihEv0Sq",
        "outputId": "8eb34ea2-bb44-43ba-d00e-da55a15f0708"
      },
      "execution_count": 11,
      "outputs": [
        {
          "output_type": "stream",
          "name": "stdout",
          "text": [
            "Enter number of rows: 4\n",
            "      1 \n",
            "    1 2 1 \n",
            "  1 2 3 2 1 \n",
            "1 2 3 4 3 2 1 \n"
          ]
        }
      ]
    },
    {
      "cell_type": "markdown",
      "source": [
        "**12. Write a program to print all its prime factors if a positive integer is entered through the keyboard.**"
      ],
      "metadata": {
        "id": "DoQiG6vCv0cz"
      }
    },
    {
      "cell_type": "code",
      "source": [
        "num = int(input(\"Enter a positive integer: \"))\n",
        "i = 2\n",
        "while num > 1:\n",
        "    if num % i == 0:\n",
        "        print(i, end=\" \")\n",
        "        num //= i\n",
        "    else:\n",
        "        i += 1\n"
      ],
      "metadata": {
        "colab": {
          "base_uri": "https://localhost:8080/"
        },
        "id": "TOGp199gv3dH",
        "outputId": "6868ce56-8490-40a4-c339-0d5891fcfc29"
      },
      "execution_count": 12,
      "outputs": [
        {
          "output_type": "stream",
          "name": "stdout",
          "text": [
            "Enter a positive integer: 6\n",
            "2 3 "
          ]
        }
      ]
    },
    {
      "cell_type": "markdown",
      "source": [
        "**13. Write a program to add first k terms of the following series using a while loop: 1/1! + 2^2/2!+...k^k/k!**"
      ],
      "metadata": {
        "id": "2BI6oHy1v3vM"
      }
    },
    {
      "cell_type": "code",
      "source": [
        "import math\n",
        "\n",
        "k = int(input(\"Enter number of terms: \"))\n",
        "sum_series = 0\n",
        "i = 1\n",
        "while i <= k:\n",
        "    sum_series += i**i / math.factorial(i)\n",
        "    i += 1\n",
        "\n",
        "print(\"Sum of series:\", sum_series)\n"
      ],
      "metadata": {
        "colab": {
          "base_uri": "https://localhost:8080/"
        },
        "id": "85XddQzJv6vL",
        "outputId": "163e9a6b-4ab3-4931-aa83-1a6baa88d1d1"
      },
      "execution_count": 13,
      "outputs": [
        {
          "output_type": "stream",
          "name": "stdout",
          "text": [
            "Enter number of terms: 2\n",
            "Sum of series: 3.0\n"
          ]
        }
      ]
    },
    {
      "cell_type": "markdown",
      "source": [
        "**14. Write a program which will generate and print all the palindromic prime numbers between a given range a and b. For example, a=1 and b=1000, the program should print 11,101,929.**"
      ],
      "metadata": {
        "id": "_eIlwLGtv68U"
      }
    },
    {
      "cell_type": "code",
      "source": [
        "a = int(input(\"Enter start of range: \"))\n",
        "b = int(input(\"Enter end of range: \"))\n",
        "\n",
        "def is_prime(n):\n",
        "    if n < 2:\n",
        "        return False\n",
        "    for i in range(2, int(n**0.5) + 1):\n",
        "        if n % i == 0:\n",
        "            return False\n",
        "    return True\n",
        "\n",
        "for num in range(a, b + 1):\n",
        "    if str(num) == str(num)[::-1] and is_prime(num):\n",
        "        print(num, end=\" \")\n"
      ],
      "metadata": {
        "colab": {
          "base_uri": "https://localhost:8080/"
        },
        "id": "z1Z5o-Niv9ay",
        "outputId": "7ea52653-6542-429b-cab4-ec1ab3fb6a0e"
      },
      "execution_count": 14,
      "outputs": [
        {
          "output_type": "stream",
          "name": "stdout",
          "text": [
            "Enter start of range: 6\n",
            "Enter end of range: 200\n",
            "7 11 101 131 151 181 191 "
          ]
        }
      ]
    },
    {
      "cell_type": "markdown",
      "source": [
        "**15. The cos value of x can be approximated by the following series. 1-x^2/2! +x^4/4!-x^6/6!+..... If x and k are input through the keyboard, write a program to calculate the sum of first k terms of this series.**"
      ],
      "metadata": {
        "id": "D3tnfqfCv9i0"
      }
    },
    {
      "cell_type": "code",
      "source": [
        "import math\n",
        "\n",
        "x = float(input(\"Enter value of x in radians: \"))\n",
        "k = int(input(\"Enter number of terms: \"))\n",
        "cos_x = 0\n",
        "for n in range(k):\n",
        "    cos_x += ((-1)**n * x**(2*n)) / math.factorial(2*n)\n",
        "\n",
        "print(f\"Approximate value of cos({x}) is {cos_x}\")\n"
      ],
      "metadata": {
        "colab": {
          "base_uri": "https://localhost:8080/"
        },
        "id": "APyraXemwAML",
        "outputId": "44c53bb6-b1fd-414a-f388-fbce03220ebd"
      },
      "execution_count": 15,
      "outputs": [
        {
          "output_type": "stream",
          "name": "stdout",
          "text": [
            "Enter value of x in radians: 6\n",
            "Enter number of terms: 12\n",
            "Approximate value of cos(6.0) is 0.9601630532594905\n"
          ]
        }
      ]
    }
  ]
}